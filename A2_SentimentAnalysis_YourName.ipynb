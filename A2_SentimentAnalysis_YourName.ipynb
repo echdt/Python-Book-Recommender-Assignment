{
 "cells": [
  {
   "cell_type": "markdown",
   "metadata": {
    "colab_type": "text",
    "id": "Z7zvmrKedLgT"
   },
   "source": [
    "# Assignment 2: Movie Review Sentiment Analysis\n",
    "\n",
    "This notebook provides starter code and a template for formatting your work. \n",
    "\n",
    "Please rename this file, replacing <tt>YourName</tt> with your first and last name, and also write your name in the cell below: "
   ]
  },
  {
   "cell_type": "raw",
   "metadata": {},
   "source": [
    "Your name here"
   ]
  },
  {
   "cell_type": "markdown",
   "metadata": {},
   "source": [
    "#### Note!\n",
    "> Tasks 1-5 in this assignment involve writing/editing 1-2 functions. As you do each task, you should also test that your function works by calling it and providing a variety of test inputs. When you are done testing and/or are ready to move on to a different task, you should comment out these lines. This will enable you to rerun your entire notebook without having to worry about which cells might be waiting on input. I have noted in each task, which lines to comment out. In the final task, you will write an interactive program that will enable the user to selectively call all the different functions, at which point the individual calls will no longer be needed. \n",
    "\n",
    "\n",
    "\n",
    "\n",
    "## Overview\n",
    "\n",
    "Sentiment Analysis is a Big Data problem which seeks to determine the general attitude of a writer given some text they have written. For instance, we would like to have a program that could look at the text “The film was a breath of fresh air” and realize that it was a positive statement while “It made me want to poke out my eye balls” is negative. \n",
    "\n",
    "One algorithm that we can use for this is to assign a numeric value to any given word based on how positive or negative that word is and then score the statement based on the values of the words. But, how do we come up with our word scores in the first place?\n",
    "\n",
    "That’s the problem that we’ll solve in this assignment. You are going to search through a file containing movie reviews from the Rotten Tomatoes website which have both a numeric score as well as text. You’ll use this to learn which words are positive and which are negative. The data file looks like this:\n",
    "    \n",
    "    1 A series of escapades demonstrating the adage that what is good... \n",
    "    4 This quiet , introspective and entertaining independent is worth...\n",
    "    1 Even fans of Ismail Merchant 's work , I suspect , would have a ...\n",
    "    3 A positively thrilling combination of ethnography and all the...\n",
    "    1 Aggressive self-glorification and a manipulative whitewash...\n",
    "    4 A comedy-drama of nearly epic proportions rooted in a sincere...\n",
    "    1 Narratively , Trouble Every Day is a plodding mess...\n",
    "    3 The Importance of Being Earnest , so thick with wit it plays...\n",
    "    1 But it does n't leave you with much .\n",
    "    1 You could hate it for the same reason .\n",
    "    1 There 's little to recommend Snow Dogs , unless one considers...\n",
    "    1 Kung Pow is Oedekerk 's realization of his childhood dream to be...\n",
    "    4 The performances are an absolute joy .\n",
    "    3 Fresnadillo has something serious to say about the ways in which...\n",
    "\n",
    "Note that each review starts with a number 0 through 4 with the following meaning:\n",
    "* 0 : negative\n",
    "* 1 : somewhat negative\n",
    "* 2 : neutral\n",
    "* 3 : somewhat positive\n",
    "* 4 : positive\n",
    "\n",
    "\n",
    "You will need to download the file <code>movieReviews.txt</code> and save it in the same directory as this notebook file. \n",
    "\n",
    "**[You can download the movie reviews here.](https://drive.google.com/file/d/1DzUtycFNmiPNQRzlWShTfLCOSrcz3t0m/view?usp=sharing)**"
   ]
  },
  {
   "cell_type": "markdown",
   "metadata": {
    "colab_type": "text",
    "id": "xcLWlFGNdwns"
   },
   "source": [
    "## Reading the movie review file\n",
    "\n",
    "The first thing we need to do, is read in this movie review file. This code has been written for you below. This file opens the movieReviews.txt file (you can open this yourself to look at the reviews). It then reads in each line creating a tupple of each movie review and its score and storing the tupples in a list. \n",
    "\n",
    "    [(\"1\", \"A series...\"), (\"4\", \"This quiet , introspective...\"), ...]\n",
    "    \n",
    "Note that the movie ratings are stored as a string, and not an integer. \n",
    "\n",
    "Run the code below. It should print out the first element of the tupple (i.e., the first review paired with its score), which looks like this: \n",
    "\n",
    "    ('1',\n",
    "     'A series of escapades demonstrating the adage that what is good for the goose is also good for the gander , some of which occasionally amuses but none of which amounts to much of a story .\\t\\n')\n",
    "     \n",
    "*NB: If you are starting this assignment early, we won't have talked about tupples yet. You can read ahead (Ch 10 of PY4E), but it's really not necessary. You will only need to access the elements of the tupple, which you can do by just treating them as though they are lists. This is demonstrated in <code>printMatches</code>.*"
   ]
  },
  {
   "cell_type": "code",
   "execution_count": null,
   "metadata": {},
   "outputs": [],
   "source": [
    "# Run but do not change this code\n",
    "# Try to figure out what this code does, but don't worry if doesn't all make sense.\n",
    "# By the end of the course, you should be able to at least mostly follow this code.\n",
    "\n",
    "def readFile():\n",
    "    with open('movieReviews.txt') as fileObj:\n",
    "        lines = fileObj.readlines()\n",
    "        reviews = [tuple(l.split(' ',1)) for l in lines]\n",
    "    \n",
    "    return reviews\n",
    "\n",
    "movieReviews = readFile() \n",
    "print(movieReviews[0])"
   ]
  },
  {
   "cell_type": "markdown",
   "metadata": {},
   "source": [
    "### Finding matches\n",
    "\n",
    "To help you get started, the following code asks the user for an input word, and then prints out all the reviews that contain the target word. \n",
    "\n",
    "Run this code on a few different target words, and look at the output. Use `ctrl-f` on the `movieReviews.txt` file (open it in another window or a text editor of your choice) and check to see if you are getting the right output. \n",
    "\n",
    "**NB: If running the code below fails, make sure you ran the above code first. You will need to do this everytime you reopen your assignment**\n",
    "\n",
    "How about on the word `fantastic`? \n",
    "\n",
    "***\n",
    "# Task 1. (2 Points) \n",
    "\n",
    "Modify the code to catch all 13 matches to fantastic. "
   ]
  },
  {
   "cell_type": "code",
   "execution_count": null,
   "metadata": {},
   "outputs": [],
   "source": [
    "def printMatches(targetWord): \n",
    "    numMatches = 0\n",
    "    \n",
    "    for mr in movieReviews: \n",
    "        reviewText = mr[1]   #access the review text from the tupple and store it in a variable\n",
    "        reviewScore = mr[0]  # access the review score and store it in a variable\n",
    "\n",
    "        for reviewWord in reviewText.split(\" \"):\n",
    "            if targetWord.lower() == reviewWord.lower() :\n",
    "                numMatches += 1\n",
    "                print(\"Score: \" + reviewScore)\n",
    "                print(\"Text: \" + reviewText)\n",
    "    print(\"There were\", numMatches, \"matches\")\n",
    "    \n",
    "\n",
    "# For testing only. Uncomment/Comment as needed\n",
    "inputWord = input('Enter a word:') \n",
    "printMatches(inputWord)"
   ]
  },
  {
   "cell_type": "markdown",
   "metadata": {},
   "source": [
    "Describe in 1-2 sentences why the original code did not work and what you did you to fix it. "
   ]
  },
  {
   "cell_type": "raw",
   "metadata": {},
   "source": [
    "The original code was case sensitive, which I changed."
   ]
  },
  {
   "cell_type": "markdown",
   "metadata": {},
   "source": [
    "***\n",
    "# Task 2. (12 points) \n",
    "\n",
    "Your code should ask the user to enter a word, and then you will search every movie review for that word. If you find it, add the score for that review to the word’s running score total (i.e., an accumulator variable). You also will need to keep track of how many appearances the word made so that you can report the average score of reviews containing that word back to the user.\n",
    "\n",
    "*Hint 1: Build your code off of the code provided `printMatches`. The core logic is the same. (But you can't just call `printMatches` you will need to write similar but distinct code) *\n",
    "\n",
    "Some sample runs of the program might look like this: \n",
    "\n",
    "    Enter a word: fantastic\n",
    "    fantastic appears 13 times.\n",
    "    The average score for reviews containt the word fantastic is 2.8461538461538463\n",
    "    \n",
    "    Enter a word. horrible\n",
    "    horrible appears 12 times.\n",
    "    The average score for reviews containt the word horrible is 0.5833333333333334\n",
    "\n",
    "    ok appears 3 times.\n",
    "    The average score for reviews containt the word ok is 2.3333333333333335\n",
    "\n",
    "    Enter a word. zebra\n",
    "    zebra appears 0 times.\n",
    "    \n",
    "*Hint 2: It would be a good idea to break this into two functions <code>calcWordScore</code> and <code>printWordScore</code>. This will allow you to use the <code>calcWordScore</code> in subsequent exercises.* \n",
    "* <code>calcWordScore</code> should take a word as a input paramter, and return that word's average score.\n",
    "* <code>printWordScore</code> should ask the user for input, call <code>calcWordScore</code> on that input, and then print out the result (as shown above)\n",
    " "
   ]
  },
  {
   "cell_type": "code",
   "execution_count": null,
   "metadata": {},
   "outputs": [],
   "source": [
    "def calcWordScore(targetWord):\n",
    "    wordScore = 0\n",
    "    numOccurances = 0\n",
    "    sumScore = 0\n",
    "    \n",
    "    for mr in movieReviews: \n",
    "        reviewText = mr[1]   #access the review text from the tupple and store it in a variable\n",
    "        reviewScore = mr[0]  # access the review score and store it in a variable\n",
    "\n",
    "    \n",
    "        for reviewWord in reviewText.split(\" \"):\n",
    "            if targetWord.lower() == reviewWord.lower() :\n",
    "                numOccurances += 1\n",
    "                sumScore += int(reviewScore)\n",
    "    \n",
    "    if (numOccurances != 0):\n",
    "        wordScore = sumScore / numOccurances\n",
    "    else:\n",
    "        wordScore = 0      \n",
    "    return (wordScore, numOccurances)\n",
    "\n",
    "def printWordScore():\n",
    "    inputWord = input('Enter a word:')    \n",
    "    score = calcWordScore(inputWord)\n",
    "        \n",
    "    print(inputWord + \" appears\", score[1], \"times.\")\n",
    "    if score[0] != 0 :\n",
    "        print(\"The average score for reviews containing the word\", inputWord, \"is\", score[0])\n",
    "        \n",
    "# For testing only. Uncomment/Comment as needed\n",
    "printWordScore()"
   ]
  },
  {
   "cell_type": "markdown",
   "metadata": {},
   "source": [
    "Briefly describe how your code works. Copy/paste at least 5 sample runs of your code across range of different inputs. "
   ]
  },
  {
   "cell_type": "raw",
   "metadata": {},
   "source": [
    "I had to make it so that the code added up the sum of the scores where the inputWord appeared, then found the medium of this score.\n",
    "\n",
    "fantastic - 2.8461538461538463\n",
    "terrible - 1.1176470588235294\n",
    "amazing - 3.2857142857142856\n",
    "horrible - 0.5833333333333334\n",
    "love - 2.645348837209302\n",
    "hate - 1.5625\n",
    "best - 2.9245283018867925\n",
    "worst - 0.7272727272727273"
   ]
  },
  {
   "cell_type": "markdown",
   "metadata": {},
   "source": [
    "***\n",
    "# Task 3. (4 points) \n",
    "\n",
    "Now, ask the user to give you a phrase. Report back to the user the average score of the words in the phrase. This will allow you to predict the overall sentiment of the phrase represented by the words in it. Consider an average word score above 2.1 as an overall positive sentiment and consider average score below 1.9 to have an overall negative sentiment. As an example, for the following phrase:\n",
    "\n",
    "    It made me want to poke out my eyeballs \n",
    "    \n",
    "A sample run might look like this\n",
    "\n",
    "    Enter a phrase: It made me want to poke out my eyeballs\n",
    "    The average score of words in your phrase is 1.7683102097253127\n",
    "    The overall sentiment of your phrase is negative\n",
    "    \n",
    "If no words in the phrase exist in the movie review database, your code should print out\n",
    "    \n",
    "    No matches were found for your phrase. We are unable to provide a sentiment score. \n",
    "\n",
    "All of the functionality should be in a single function for this task. "
   ]
  },
  {
   "cell_type": "code",
   "execution_count": null,
   "metadata": {},
   "outputs": [],
   "source": [
    "def printPhraseScore():\n",
    "    targetPhrase = input('Enter a phrase: ')\n",
    "    \n",
    "    # Gets the phrase from the user input\n",
    "    targetPhrase = input('Enter a phrase:')\n",
    "\n",
    "    # Splits the phrase by spaces to get all the words\n",
    "    wordlist = targetPhrase.split(\" \")\n",
    "\n",
    "    # Variables\n",
    "    PhraseScore = 0\n",
    "    totalScore = 0\n",
    "    countFound = 0\n",
    "    \n",
    "    # For each word we calculate the word score\n",
    "    for w in wordlist:\n",
    "        score = calcWordScore(w)\n",
    "\n",
    "        # if we found the word, we add the score to the total score and we increment the count\n",
    "        # if we do not find the word in the text we do not use it in the division to calculate the overall score\n",
    "        if (score[1] > 0):\n",
    "            totalScore += score[0]\n",
    "            countFound +=1\n",
    "\n",
    "    # the phrase score is the total sum score of all the words divided\n",
    "    # by the number of words we are looking in the phrase\n",
    "    PhraseScore = totalScore / countFound\n",
    "\n",
    "    if (PhraseScore != 0):\n",
    "        print(\"The average score of words in your phrase is\", PhraseScore)\n",
    "    else:\n",
    "        print(\"No matches were found for your phrase. We are unable to provide a sentiment score.\")\n",
    "        \n",
    "printPhraseScore()"
   ]
  },
  {
   "cell_type": "markdown",
   "metadata": {},
   "source": [
    "Briefly describe how your code works. Copy/paste at least 5 sample runs of your code across range of different inputs. "
   ]
  },
  {
   "cell_type": "raw",
   "metadata": {},
   "source": [
    "It splits the sentence up using the spaces (\" \") and creates a list, then adding up the score of when the words were found and then dividing it by how many times the words were found.\n",
    "\n",
    "Enter a phrase:It made me want to poke out my eyeballs\n",
    "The average score of words in your phrase is 1.7683102097253127\n",
    "\n",
    "Enter a phrase:This was the worst movie ever\n",
    "The average score of words in your phrase is 1.7517719181104543\n",
    "\n",
    "Enter a phrase:I was never so unhappy while watching this\n",
    "The average score of words in your phrase is 1.8665571743603175\n",
    "\n",
    "Enter a phrase:This was the best thing I have seen in quite a while\n",
    "The average score of words in your phrase is 2.050855296471302\n",
    "\n",
    "Enter a phrase:I am so glad I went to see this\n",
    "The average score of words in your phrase is 1.984983332610296\n",
    "\n",
    "Enter a phrase:Wonderful performance definitely great\n",
    "The average score of words in your phrase is 2.868553010607175"
   ]
  },
  {
   "cell_type": "markdown",
   "metadata": {},
   "source": [
    "***\n",
    "# Task 4. (4 points) \n",
    "\n",
    "Now, ask the user to give you a phrase, and compute the score of every word in the phrase. Report back to the user which word was the most positive and which was the most negative. An example run might look like this:\n",
    "\n",
    "    Enter a phrase: terrible horrible ok refreshing formulaic\n",
    "    The most positive word -- with a score of 3.5 -- is refreshing\n",
    "    The most negative word -- with a score of 0.5833333333333334 -- is horrible\n",
    "    "
   ]
  },
  {
   "cell_type": "code",
   "execution_count": null,
   "metadata": {},
   "outputs": [],
   "source": [
    "def printMostEmotiveWords():\n",
    "\n",
    "    # Gets the phrase from the user input\n",
    "    targetPhrase = input('Enter a phrase:')\n",
    "\n",
    "    # Splits the phrase by spaces to get all the words\n",
    "    wordlist = targetPhrase.split(\" \")\n",
    "\n",
    "    # Variable\n",
    "    mostPositiveWord = \"\"\n",
    "    mostNegativeWord = \"\"\n",
    "    mostPositiveScore = -999999\n",
    "    mostNegativeScore = 999999\n",
    "    \n",
    "    # For each word we calculate the word score\n",
    "    for w in wordlist:\n",
    "        score = calcWordScore(w)\n",
    "        if(score[1] > 0):\n",
    "            if (score[0] > mostPositiveScore):\n",
    "                mostPositiveScore = score[0]\n",
    "                mostPositiveWord = w\n",
    "            if (score[0] < mostNegativeScore):\n",
    "                mostNegativeScore = score[0]\n",
    "                mostNegativeWord = w\n",
    "\n",
    "    if (mostPositiveWord != -999999):\n",
    "        print(\"The most positive word -- with a score of\", mostPositiveScore, \"-- is\", mostPositiveWord)\n",
    "    if (mostNegativeWord != 999999):\n",
    "        print(\"The most negative word -- with a score of\", mostNegativeScore, \"-- is\", mostNegativeWord)\n",
    "        \n",
    "printMostEmotiveWords()"
   ]
  },
  {
   "cell_type": "markdown",
   "metadata": {},
   "source": [
    "Briefly describe how your code works. Copy/paste at least 5 sample runs of your code across range of different inputs. "
   ]
  },
  {
   "cell_type": "raw",
   "metadata": {},
   "source": [
    "It takes the phrase and splits it up in a list. Then it takes each word and calucates the word score. Then based on that score it determines which word is the most positive and most negatives.\n",
    "\n",
    "\n",
    "Enter a phrase:this was the worst film of my life\n",
    "The most positive word -- with a score of 2.4276729559748427 -- is life\n",
    "The most negative word -- with a score of 0.7272727272727273 -- is worst\n",
    "\n",
    "Enter a phrase:i was so happy while watching this\n",
    "The most positive word -- with a score of 2.588235294117647 -- is happy\n",
    "The most negative word -- with a score of 1.621301775147929 -- is was\n",
    "\n",
    "Enter a phrase:i will never watch this ever again\n",
    "The most positive word -- with a score of 2.298076923076923 -- is ever\n",
    "The most negative word -- with a score of 1.8222748815165877 -- is i\n",
    "\n",
    "Enter a phrase:for sure the greatest film ever made\n",
    "The most positive word -- with a score of 2.3076923076923075 -- is greatest\n",
    "The most negative word -- with a score of 1.794871794871795 -- is sure\n",
    "\n",
    "Enter a phrase:i really regret wasting 2 hours of my life on this film\n",
    "The most positive word -- with a score of 2.473684210526316 -- is 2\n",
    "The most negative word -- with a score of 0.0 -- is wasting"
   ]
  },
  {
   "cell_type": "markdown",
   "metadata": {},
   "source": [
    "***\n",
    "# Task 5. (4 points) \n",
    "Now add functionality that will ask the user to enter a phrase, but instead of reporting the best and the worst word, create two lists, sorting words that have scores below 1.9 into the negative list and words that have scores above 2.1 into the positive list (and just leave out words in between). \n",
    "\n",
    "An example run might look like this: \n",
    "\n",
    "    Enter a phrase: terrible horrible ok refreshing formulaic dizzily\n",
    "    The phrase contains the following positive words: ok, refreshing\n",
    "    The phrase contains the following negative words: terrible, horrible, formulaic\n"
   ]
  },
  {
   "cell_type": "code",
   "execution_count": null,
   "metadata": {},
   "outputs": [],
   "source": [
    "def printSortedEmotiveWords():\n",
    "\n",
    "    # Gets the phrase from the user input\n",
    "    targetPhrase = input('Enter a phrase:')\n",
    "\n",
    "    # Splits the phrase by spaces to get all the words\n",
    "    wordlist = targetPhrase.split(\" \")\n",
    "\n",
    "    # Variable\n",
    "    collectionPostive = []\n",
    "    collectionNegative = []\n",
    "    \n",
    "    # For each word we calculate the word score\n",
    "    for w in wordlist:\n",
    "        score = calcWordScore(w)\n",
    "        if (score > 2.1):\n",
    "            collectionPostive.append(w)\n",
    "        if (score < 1.9):\n",
    "            collectionNegative.append(w)\n",
    "\n",
    "    print(\"The phrase contains the following positive words:\", \", \".join(collectionPostive))\n",
    "    print(\"The phrase contains the following negative words:\", \", \".join(collectionNegative))\n",
    "            \n",
    "printSortedEmotiveWords()"
   ]
  },
  {
   "cell_type": "markdown",
   "metadata": {},
   "source": [
    "Briefly describe how your code works. Copy/paste at least 5 sample runs of your code across range of different inputs. "
   ]
  },
  {
   "cell_type": "raw",
   "metadata": {},
   "source": [
    "It takes the phrase and splits it up using the \" \" (space), creating an empty list of positive and negative words. Then each word gets a calculated score and they are divided into each listed based on if they are greater than 2.1 (positive) or less than 1.9 (negative).\n",
    "\n",
    "Enter a phrase:awesome good best awful terrible\n",
    "The phrase contains the following positive words: awesome, good, best\n",
    "The phrase contains the following negative words: awful, terrible\n",
    "\n",
    "Enter a phrase:never again love hate absolutely\n",
    "The phrase contains the following positive words: love, absolutely\n",
    "The phrase contains the following negative words: hate\n",
    "\n",
    "Enter a phrase:babysitter movies better worst sad\n",
    "The phrase contains the following positive words: babysitter, movies, sad\n",
    "The phrase contains the following negative words: worst\n",
    "\n",
    "Enter a phrase:light dark life difficult stunning\n",
    "The phrase contains the following positive words: light, dark, life, stunning\n",
    "The phrase contains the following negative words: difficult\n",
    "\n",
    "Enter a phrase:music car state fancy cat\n",
    "The phrase contains the following positive words: music, state, fancy, cat\n",
    "The phrase contains the following negative words: car"
   ]
  },
  {
   "cell_type": "markdown",
   "metadata": {},
   "source": [
    "***\n",
    "# Task 6. (4 points) \n",
    "\n",
    "Create a menu that allows the user to pick the functionality that they want from the choices. When finished with it, present the menu again until the user chooses to exit. A sample run of the menu might look like this."
   ]
  },
  {
   "cell_type": "markdown",
   "metadata": {},
   "source": [
    "    -------------------------------\n",
    "       MOVIE REVIEW ANALYZER \n",
    "    -------------------------------\n",
    "    What would you like to do? \n",
    "    1. Get the score of a word \n",
    "    2. Get the average score of a phrase\n",
    "    3. Find the highest/lowest scoring words in a list\n",
    "    4. Sort words into a list into postive and negative\n",
    "    5. Exit the program\n",
    "    Enter an option(1-5): 1\n",
    "\n",
    "    Enter a word: fantastic\n",
    "    fantastic appears 13 times.\n",
    "    The average score for reviews containing the word fantastic is 2.8461538461538463\n",
    "\n",
    "    What would you like to do? \n",
    "    1. Get the score of a word \n",
    "    2. Get the average score of a phrase\n",
    "    3. Find the highest/lowest scoring words in a list\n",
    "    4. Sort words into a list into postive and negative\n",
    "    5. Exit the program\n",
    "    Enter an option(1-5): 2\n",
    "\n",
    "    Enter a phrase:  It made me want to poke out my eyeballs\n",
    "    The average score of words in your phrase is 1.7683102097253127\n",
    "    The overall sentiment of your phrase is negative\n",
    "\n",
    "    What would you like to do? \n",
    "    1. Get the score of a word \n",
    "    2. Get the average score of a phrase\n",
    "    3. Find the highest/lowest scoring words in a list\n",
    "    4. Sort words into a list into postive and negative\n",
    "    5. Exit the program\n",
    "    Enter an option(1-5): 3\n",
    "\n",
    "    Enter a phrase: It made me want to poke out my eyeballs\n",
    "    The most positive word, with a score of -- 2.036144578313253 -- is my\n",
    "    The most negative word, with a score of -- 1.0 -- is eyeballs\n",
    "\n",
    "    What would you like to do? \n",
    "    1. Get the score of a word \n",
    "    2. Get the average score of a phrase\n",
    "    3. Find the highest/lowest scoring words in a list\n",
    "    4. Sort words into a list into postive and negative\n",
    "    5. Exit the program\n",
    "    Enter an option(1-5): 4\n",
    "\n",
    "    Enter a phrase: It made me want to poke out my eyeballs\n",
    "    The phrase contains the following positive words: \n",
    "    The phrase contains the following negative words: me, want, out, eyeballs\n",
    "\n",
    "    What would you like to do? \n",
    "    1. Get the score of a word \n",
    "    2. Get the average score of a phrase\n",
    "    3. Find the highest/lowest scoring words in a list\n",
    "    4. Sort words into a list into postive and negative\n",
    "    5. Exit the program\n",
    "    Enter an option(1-5): 5\n",
    "    -------------------------------\n",
    "       HAVE A NICE DAY. BYE! \n",
    "    -------------------------------\n",
    "\n"
   ]
  },
  {
   "cell_type": "code",
   "execution_count": null,
   "metadata": {},
   "outputs": [],
   "source": [
    "print(\"-------------------------------\")\n",
    "print(\"   MOVIE REVIEW ANALYZER \")\n",
    "print(\"-------------------------------\")\n",
    "\n",
    "print(\"What would you like to do?\")\n",
    "print(\"1. Get the score of a word\")\n",
    "print(\"2. Get the average score of a phrase\")\n",
    "print(\"3. Find the highest/lowest scoring words in a list\")\n",
    "print(\"4. Sort words into a list into postive and negative\")\n",
    "print(\"5. Exit the program\")\n",
    "\n",
    "inputOption = input(\"Enter an option(1-5):\")\n",
    "\n",
    "if (inputOption == \"1\"):\n",
    "    printWordScore()\n",
    "if (inputOption == \"2\"):\n",
    "    printPhraseScore()\n",
    "if (inputOption == \"3\"):\n",
    "    printMostEmotiveWords()\n",
    "if (inputOption == \"4\"):\n",
    "    printSortedEmotiveWords()\n",
    "if (inputOption == \"5\"):\n",
    "    print(\"-------------------------------\")\n",
    "    print(\"   HAVE A NICE DAY. BYE! \")\n",
    "    print(\"-------------------------------\")"
   ]
  },
  {
   "cell_type": "markdown",
   "metadata": {},
   "source": [
    "Briefly describe how your code works. You do not need to copy/paste sample runs of your code for this exercise, but you should briefly describe how you tested your code to make sure it works. "
   ]
  },
  {
   "cell_type": "raw",
   "metadata": {},
   "source": [
    "The code prints all of the questions 1-5. Then when the user inputs each number, it will run the code created from the other tasks, except 5, which says goodbye/exits."
   ]
  }
 ],
 "metadata": {
  "kernelspec": {
   "display_name": "Python 3",
   "language": "python",
   "name": "python3"
  },
  "language_info": {
   "codemirror_mode": {
    "name": "ipython",
    "version": 3
   },
   "file_extension": ".py",
   "mimetype": "text/x-python",
   "name": "python",
   "nbconvert_exporter": "python",
   "pygments_lexer": "ipython3",
   "version": "3.8.5"
  }
 },
 "nbformat": 4,
 "nbformat_minor": 4
}
